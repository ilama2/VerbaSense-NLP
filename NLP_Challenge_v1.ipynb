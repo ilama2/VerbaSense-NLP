{
  "nbformat": 4,
  "nbformat_minor": 0,
  "metadata": {
    "colab": {
      "provenance": [],
      "machine_shape": "hm",
      "gpuType": "T4"
    },
    "kernelspec": {
      "name": "python3",
      "display_name": "Python 3"
    },
    "language_info": {
      "name": "python"
    },
    "accelerator": "GPU"
  },
  "cells": [
    {
      "cell_type": "markdown",
      "source": [
        "## Import libraries :"
      ],
      "metadata": {
        "id": "v2VXHslT0wH3"
      }
    },
    {
      "cell_type": "code",
      "source": [
        "import nltk\n",
        "import re\n",
        "import string\n",
        "import pandas as pd\n",
        "import matplotlib.pyplot as plt\n",
        "from nltk.corpus import stopwords\n",
        "from nltk.tokenize import word_tokenize\n",
        "from nltk.stem import PorterStemmer, WordNetLemmatizer\n",
        "from nltk import pos_tag\n",
        "from sklearn.feature_extraction.text import CountVectorizer, TfidfVectorizer\n",
        "from sklearn.model_selection import train_test_split\n",
        "from sklearn.preprocessing import LabelEncoder\n",
        "from sklearn.feature_extraction.text import TfidfVectorizer\n",
        "from sklearn.metrics import confusion_matrix\n",
        "import seaborn as sns\n",
        "import matplotlib.pyplot as plt\n",
        "from sklearn.metrics import accuracy_score, classification_report\n",
        "\n"
      ],
      "metadata": {
        "id": "aVfnjOaDcrJ0"
      },
      "execution_count": 3,
      "outputs": []
    },
    {
      "cell_type": "code",
      "source": [
        "# Download NLTK datasets\n",
        "nltk.download('punkt')\n",
        "nltk.download('stopwords')\n",
        "nltk.download('averaged_perceptron_tagger')\n",
        "nltk.download('wordnet')\n",
        "nltk.download('punkt_tab')\n",
        "nltk.download('averaged_perceptron_tagger')"
      ],
      "metadata": {
        "colab": {
          "base_uri": "https://localhost:8080/"
        },
        "id": "k6VFeSz5c0jw",
        "outputId": "beba1564-b6d9-4b0d-91be-e709929fc515"
      },
      "execution_count": 2,
      "outputs": [
        {
          "output_type": "stream",
          "name": "stderr",
          "text": [
            "[nltk_data] Downloading package punkt to /root/nltk_data...\n",
            "[nltk_data]   Unzipping tokenizers/punkt.zip.\n",
            "[nltk_data] Downloading package stopwords to /root/nltk_data...\n",
            "[nltk_data]   Unzipping corpora/stopwords.zip.\n",
            "[nltk_data] Downloading package averaged_perceptron_tagger to\n",
            "[nltk_data]     /root/nltk_data...\n",
            "[nltk_data]   Unzipping taggers/averaged_perceptron_tagger.zip.\n",
            "[nltk_data] Downloading package wordnet to /root/nltk_data...\n",
            "[nltk_data] Downloading package punkt_tab to /root/nltk_data...\n",
            "[nltk_data]   Unzipping tokenizers/punkt_tab.zip.\n",
            "[nltk_data] Downloading package averaged_perceptron_tagger to\n",
            "[nltk_data]     /root/nltk_data...\n",
            "[nltk_data]   Package averaged_perceptron_tagger is already up-to-\n",
            "[nltk_data]       date!\n"
          ]
        },
        {
          "output_type": "execute_result",
          "data": {
            "text/plain": [
              "True"
            ]
          },
          "metadata": {},
          "execution_count": 2
        }
      ]
    },
    {
      "cell_type": "markdown",
      "source": [
        "##  1. choose a representative sample"
      ],
      "metadata": {
        "id": "H1PvdNaSbaDj"
      }
    },
    {
      "cell_type": "code",
      "source": [
        "import pandas as pd\n",
        "#load data\n",
        "url = \"https://raw.githubusercontent.com/ironhack-labs/project-nlp-challenge/refs/heads/main/dataset/data.csv\"\n",
        "df = pd.read_csv(url)\n",
        "\n",
        "df.head()"
      ],
      "metadata": {
        "colab": {
          "base_uri": "https://localhost:8080/",
          "height": 293
        },
        "id": "e5h4Byf6L8_r",
        "outputId": "c655a012-2283-4a20-a33f-b1212d9dfb7b"
      },
      "execution_count": 4,
      "outputs": [
        {
          "output_type": "execute_result",
          "data": {
            "text/plain": [
              "   label                                              title  \\\n",
              "0      1  As U.S. budget fight looms, Republicans flip t...   \n",
              "1      1  U.S. military to accept transgender recruits o...   \n",
              "2      1  Senior U.S. Republican senator: 'Let Mr. Muell...   \n",
              "3      1  FBI Russia probe helped by Australian diplomat...   \n",
              "4      1  Trump wants Postal Service to charge 'much mor...   \n",
              "\n",
              "                                                text       subject  \\\n",
              "0  WASHINGTON (Reuters) - The head of a conservat...  politicsNews   \n",
              "1  WASHINGTON (Reuters) - Transgender people will...  politicsNews   \n",
              "2  WASHINGTON (Reuters) - The special counsel inv...  politicsNews   \n",
              "3  WASHINGTON (Reuters) - Trump campaign adviser ...  politicsNews   \n",
              "4  SEATTLE/WASHINGTON (Reuters) - President Donal...  politicsNews   \n",
              "\n",
              "                 date  \n",
              "0  December 31, 2017   \n",
              "1  December 29, 2017   \n",
              "2  December 31, 2017   \n",
              "3  December 30, 2017   \n",
              "4  December 29, 2017   "
            ],
            "text/html": [
              "\n",
              "  <div id=\"df-f6d5a273-f56c-46fb-a277-c8565b72110f\" class=\"colab-df-container\">\n",
              "    <div>\n",
              "<style scoped>\n",
              "    .dataframe tbody tr th:only-of-type {\n",
              "        vertical-align: middle;\n",
              "    }\n",
              "\n",
              "    .dataframe tbody tr th {\n",
              "        vertical-align: top;\n",
              "    }\n",
              "\n",
              "    .dataframe thead th {\n",
              "        text-align: right;\n",
              "    }\n",
              "</style>\n",
              "<table border=\"1\" class=\"dataframe\">\n",
              "  <thead>\n",
              "    <tr style=\"text-align: right;\">\n",
              "      <th></th>\n",
              "      <th>label</th>\n",
              "      <th>title</th>\n",
              "      <th>text</th>\n",
              "      <th>subject</th>\n",
              "      <th>date</th>\n",
              "    </tr>\n",
              "  </thead>\n",
              "  <tbody>\n",
              "    <tr>\n",
              "      <th>0</th>\n",
              "      <td>1</td>\n",
              "      <td>As U.S. budget fight looms, Republicans flip t...</td>\n",
              "      <td>WASHINGTON (Reuters) - The head of a conservat...</td>\n",
              "      <td>politicsNews</td>\n",
              "      <td>December 31, 2017</td>\n",
              "    </tr>\n",
              "    <tr>\n",
              "      <th>1</th>\n",
              "      <td>1</td>\n",
              "      <td>U.S. military to accept transgender recruits o...</td>\n",
              "      <td>WASHINGTON (Reuters) - Transgender people will...</td>\n",
              "      <td>politicsNews</td>\n",
              "      <td>December 29, 2017</td>\n",
              "    </tr>\n",
              "    <tr>\n",
              "      <th>2</th>\n",
              "      <td>1</td>\n",
              "      <td>Senior U.S. Republican senator: 'Let Mr. Muell...</td>\n",
              "      <td>WASHINGTON (Reuters) - The special counsel inv...</td>\n",
              "      <td>politicsNews</td>\n",
              "      <td>December 31, 2017</td>\n",
              "    </tr>\n",
              "    <tr>\n",
              "      <th>3</th>\n",
              "      <td>1</td>\n",
              "      <td>FBI Russia probe helped by Australian diplomat...</td>\n",
              "      <td>WASHINGTON (Reuters) - Trump campaign adviser ...</td>\n",
              "      <td>politicsNews</td>\n",
              "      <td>December 30, 2017</td>\n",
              "    </tr>\n",
              "    <tr>\n",
              "      <th>4</th>\n",
              "      <td>1</td>\n",
              "      <td>Trump wants Postal Service to charge 'much mor...</td>\n",
              "      <td>SEATTLE/WASHINGTON (Reuters) - President Donal...</td>\n",
              "      <td>politicsNews</td>\n",
              "      <td>December 29, 2017</td>\n",
              "    </tr>\n",
              "  </tbody>\n",
              "</table>\n",
              "</div>\n",
              "    <div class=\"colab-df-buttons\">\n",
              "\n",
              "  <div class=\"colab-df-container\">\n",
              "    <button class=\"colab-df-convert\" onclick=\"convertToInteractive('df-f6d5a273-f56c-46fb-a277-c8565b72110f')\"\n",
              "            title=\"Convert this dataframe to an interactive table.\"\n",
              "            style=\"display:none;\">\n",
              "\n",
              "  <svg xmlns=\"http://www.w3.org/2000/svg\" height=\"24px\" viewBox=\"0 -960 960 960\">\n",
              "    <path d=\"M120-120v-720h720v720H120Zm60-500h600v-160H180v160Zm220 220h160v-160H400v160Zm0 220h160v-160H400v160ZM180-400h160v-160H180v160Zm440 0h160v-160H620v160ZM180-180h160v-160H180v160Zm440 0h160v-160H620v160Z\"/>\n",
              "  </svg>\n",
              "    </button>\n",
              "\n",
              "  <style>\n",
              "    .colab-df-container {\n",
              "      display:flex;\n",
              "      gap: 12px;\n",
              "    }\n",
              "\n",
              "    .colab-df-convert {\n",
              "      background-color: #E8F0FE;\n",
              "      border: none;\n",
              "      border-radius: 50%;\n",
              "      cursor: pointer;\n",
              "      display: none;\n",
              "      fill: #1967D2;\n",
              "      height: 32px;\n",
              "      padding: 0 0 0 0;\n",
              "      width: 32px;\n",
              "    }\n",
              "\n",
              "    .colab-df-convert:hover {\n",
              "      background-color: #E2EBFA;\n",
              "      box-shadow: 0px 1px 2px rgba(60, 64, 67, 0.3), 0px 1px 3px 1px rgba(60, 64, 67, 0.15);\n",
              "      fill: #174EA6;\n",
              "    }\n",
              "\n",
              "    .colab-df-buttons div {\n",
              "      margin-bottom: 4px;\n",
              "    }\n",
              "\n",
              "    [theme=dark] .colab-df-convert {\n",
              "      background-color: #3B4455;\n",
              "      fill: #D2E3FC;\n",
              "    }\n",
              "\n",
              "    [theme=dark] .colab-df-convert:hover {\n",
              "      background-color: #434B5C;\n",
              "      box-shadow: 0px 1px 3px 1px rgba(0, 0, 0, 0.15);\n",
              "      filter: drop-shadow(0px 1px 2px rgba(0, 0, 0, 0.3));\n",
              "      fill: #FFFFFF;\n",
              "    }\n",
              "  </style>\n",
              "\n",
              "    <script>\n",
              "      const buttonEl =\n",
              "        document.querySelector('#df-f6d5a273-f56c-46fb-a277-c8565b72110f button.colab-df-convert');\n",
              "      buttonEl.style.display =\n",
              "        google.colab.kernel.accessAllowed ? 'block' : 'none';\n",
              "\n",
              "      async function convertToInteractive(key) {\n",
              "        const element = document.querySelector('#df-f6d5a273-f56c-46fb-a277-c8565b72110f');\n",
              "        const dataTable =\n",
              "          await google.colab.kernel.invokeFunction('convertToInteractive',\n",
              "                                                    [key], {});\n",
              "        if (!dataTable) return;\n",
              "\n",
              "        const docLinkHtml = 'Like what you see? Visit the ' +\n",
              "          '<a target=\"_blank\" href=https://colab.research.google.com/notebooks/data_table.ipynb>data table notebook</a>'\n",
              "          + ' to learn more about interactive tables.';\n",
              "        element.innerHTML = '';\n",
              "        dataTable['output_type'] = 'display_data';\n",
              "        await google.colab.output.renderOutput(dataTable, element);\n",
              "        const docLink = document.createElement('div');\n",
              "        docLink.innerHTML = docLinkHtml;\n",
              "        element.appendChild(docLink);\n",
              "      }\n",
              "    </script>\n",
              "  </div>\n",
              "\n",
              "\n",
              "<div id=\"df-b4048572-8d04-4c0d-b808-132016ce228a\">\n",
              "  <button class=\"colab-df-quickchart\" onclick=\"quickchart('df-b4048572-8d04-4c0d-b808-132016ce228a')\"\n",
              "            title=\"Suggest charts\"\n",
              "            style=\"display:none;\">\n",
              "\n",
              "<svg xmlns=\"http://www.w3.org/2000/svg\" height=\"24px\"viewBox=\"0 0 24 24\"\n",
              "     width=\"24px\">\n",
              "    <g>\n",
              "        <path d=\"M19 3H5c-1.1 0-2 .9-2 2v14c0 1.1.9 2 2 2h14c1.1 0 2-.9 2-2V5c0-1.1-.9-2-2-2zM9 17H7v-7h2v7zm4 0h-2V7h2v10zm4 0h-2v-4h2v4z\"/>\n",
              "    </g>\n",
              "</svg>\n",
              "  </button>\n",
              "\n",
              "<style>\n",
              "  .colab-df-quickchart {\n",
              "      --bg-color: #E8F0FE;\n",
              "      --fill-color: #1967D2;\n",
              "      --hover-bg-color: #E2EBFA;\n",
              "      --hover-fill-color: #174EA6;\n",
              "      --disabled-fill-color: #AAA;\n",
              "      --disabled-bg-color: #DDD;\n",
              "  }\n",
              "\n",
              "  [theme=dark] .colab-df-quickchart {\n",
              "      --bg-color: #3B4455;\n",
              "      --fill-color: #D2E3FC;\n",
              "      --hover-bg-color: #434B5C;\n",
              "      --hover-fill-color: #FFFFFF;\n",
              "      --disabled-bg-color: #3B4455;\n",
              "      --disabled-fill-color: #666;\n",
              "  }\n",
              "\n",
              "  .colab-df-quickchart {\n",
              "    background-color: var(--bg-color);\n",
              "    border: none;\n",
              "    border-radius: 50%;\n",
              "    cursor: pointer;\n",
              "    display: none;\n",
              "    fill: var(--fill-color);\n",
              "    height: 32px;\n",
              "    padding: 0;\n",
              "    width: 32px;\n",
              "  }\n",
              "\n",
              "  .colab-df-quickchart:hover {\n",
              "    background-color: var(--hover-bg-color);\n",
              "    box-shadow: 0 1px 2px rgba(60, 64, 67, 0.3), 0 1px 3px 1px rgba(60, 64, 67, 0.15);\n",
              "    fill: var(--button-hover-fill-color);\n",
              "  }\n",
              "\n",
              "  .colab-df-quickchart-complete:disabled,\n",
              "  .colab-df-quickchart-complete:disabled:hover {\n",
              "    background-color: var(--disabled-bg-color);\n",
              "    fill: var(--disabled-fill-color);\n",
              "    box-shadow: none;\n",
              "  }\n",
              "\n",
              "  .colab-df-spinner {\n",
              "    border: 2px solid var(--fill-color);\n",
              "    border-color: transparent;\n",
              "    border-bottom-color: var(--fill-color);\n",
              "    animation:\n",
              "      spin 1s steps(1) infinite;\n",
              "  }\n",
              "\n",
              "  @keyframes spin {\n",
              "    0% {\n",
              "      border-color: transparent;\n",
              "      border-bottom-color: var(--fill-color);\n",
              "      border-left-color: var(--fill-color);\n",
              "    }\n",
              "    20% {\n",
              "      border-color: transparent;\n",
              "      border-left-color: var(--fill-color);\n",
              "      border-top-color: var(--fill-color);\n",
              "    }\n",
              "    30% {\n",
              "      border-color: transparent;\n",
              "      border-left-color: var(--fill-color);\n",
              "      border-top-color: var(--fill-color);\n",
              "      border-right-color: var(--fill-color);\n",
              "    }\n",
              "    40% {\n",
              "      border-color: transparent;\n",
              "      border-right-color: var(--fill-color);\n",
              "      border-top-color: var(--fill-color);\n",
              "    }\n",
              "    60% {\n",
              "      border-color: transparent;\n",
              "      border-right-color: var(--fill-color);\n",
              "    }\n",
              "    80% {\n",
              "      border-color: transparent;\n",
              "      border-right-color: var(--fill-color);\n",
              "      border-bottom-color: var(--fill-color);\n",
              "    }\n",
              "    90% {\n",
              "      border-color: transparent;\n",
              "      border-bottom-color: var(--fill-color);\n",
              "    }\n",
              "  }\n",
              "</style>\n",
              "\n",
              "  <script>\n",
              "    async function quickchart(key) {\n",
              "      const quickchartButtonEl =\n",
              "        document.querySelector('#' + key + ' button');\n",
              "      quickchartButtonEl.disabled = true;  // To prevent multiple clicks.\n",
              "      quickchartButtonEl.classList.add('colab-df-spinner');\n",
              "      try {\n",
              "        const charts = await google.colab.kernel.invokeFunction(\n",
              "            'suggestCharts', [key], {});\n",
              "      } catch (error) {\n",
              "        console.error('Error during call to suggestCharts:', error);\n",
              "      }\n",
              "      quickchartButtonEl.classList.remove('colab-df-spinner');\n",
              "      quickchartButtonEl.classList.add('colab-df-quickchart-complete');\n",
              "    }\n",
              "    (() => {\n",
              "      let quickchartButtonEl =\n",
              "        document.querySelector('#df-b4048572-8d04-4c0d-b808-132016ce228a button');\n",
              "      quickchartButtonEl.style.display =\n",
              "        google.colab.kernel.accessAllowed ? 'block' : 'none';\n",
              "    })();\n",
              "  </script>\n",
              "</div>\n",
              "\n",
              "    </div>\n",
              "  </div>\n"
            ],
            "application/vnd.google.colaboratory.intrinsic+json": {
              "type": "dataframe",
              "variable_name": "df",
              "summary": "{\n  \"name\": \"df\",\n  \"rows\": 39942,\n  \"fields\": [\n    {\n      \"column\": \"label\",\n      \"properties\": {\n        \"dtype\": \"number\",\n        \"std\": 0,\n        \"min\": 0,\n        \"max\": 1,\n        \"num_unique_values\": 2,\n        \"samples\": [\n          0,\n          1\n        ],\n        \"semantic_type\": \"\",\n        \"description\": \"\"\n      }\n    },\n    {\n      \"column\": \"title\",\n      \"properties\": {\n        \"dtype\": \"string\",\n        \"num_unique_values\": 36083,\n        \"samples\": [\n          \"Swedish airport explosive suspect released without charge: prosecutor\",\n          \" Democrats Across The Country Are Figuring Out Ways To FORCE Trump To Release His Tax Returns\"\n        ],\n        \"semantic_type\": \"\",\n        \"description\": \"\"\n      }\n    },\n    {\n      \"column\": \"text\",\n      \"properties\": {\n        \"dtype\": \"string\",\n        \"num_unique_values\": 35977,\n        \"samples\": [\n          \"Rudi gets it! The former mayor of New York speaks out on the horrible Obama foreign policy and how it created ISIS: This did not have to happen if our policies were different.  If President Obama had listened to Senator McCain and Senator Graham and a whole group of other people, and had set up a no-fly zone in Syria five years ago   if we had gone in and worked with the Syrian legitimate rebels  If we had not taken our troops out of Iraq and Afghanistan, ISIS never would have emerged. ISIS is filling a vacuum created by a vacuous foreign policy   ISIS is an Obama creation.  \",\n          \" You re carrying Mexican flags while chanting,  Trump is not my President.  You know that this is America right? ***Language warning***\"\n        ],\n        \"semantic_type\": \"\",\n        \"description\": \"\"\n      }\n    },\n    {\n      \"column\": \"subject\",\n      \"properties\": {\n        \"dtype\": \"category\",\n        \"num_unique_values\": 6,\n        \"samples\": [\n          \"politicsNews\",\n          \"worldnews\"\n        ],\n        \"semantic_type\": \"\",\n        \"description\": \"\"\n      }\n    },\n    {\n      \"column\": \"date\",\n      \"properties\": {\n        \"dtype\": \"category\",\n        \"num_unique_values\": 2392,\n        \"samples\": [\n          \"March 10, 2017\",\n          \"June 16, 2017 \"\n        ],\n        \"semantic_type\": \"\",\n        \"description\": \"\"\n      }\n    }\n  ]\n}"
            }
          },
          "metadata": {},
          "execution_count": 4
        }
      ]
    },
    {
      "cell_type": "code",
      "source": [
        "#check dataset size\n",
        "rows, cols = df.shape\n",
        "print(f\"Dataset contains {rows} rows and {cols} columns.\")"
      ],
      "metadata": {
        "colab": {
          "base_uri": "https://localhost:8080/"
        },
        "id": "q1ZR_qk8Pq2h",
        "outputId": "8093572f-f28c-4ff9-9073-738b0d7fcf1c"
      },
      "execution_count": 5,
      "outputs": [
        {
          "output_type": "stream",
          "name": "stdout",
          "text": [
            "Dataset contains 39942 rows and 5 columns.\n"
          ]
        }
      ]
    },
    {
      "cell_type": "code",
      "source": [
        "#drop unwanted columns\n",
        "df = df.drop(columns=['date','subject','title'],axis=1)"
      ],
      "metadata": {
        "id": "pJ31xp35Xuya"
      },
      "execution_count": 6,
      "outputs": []
    },
    {
      "cell_type": "code",
      "source": [
        "#select 20% of the data\n",
        "sample = df.sample(frac=0.2, random_state=42)\n",
        "sample.head()"
      ],
      "metadata": {
        "colab": {
          "base_uri": "https://localhost:8080/",
          "height": 206
        },
        "id": "uxvHcHt3TKet",
        "outputId": "a96d37ed-c6ac-4b36-adf7-608205ad2ccc"
      },
      "execution_count": 7,
      "outputs": [
        {
          "output_type": "execute_result",
          "data": {
            "text/plain": [
              "       label                                               text\n",
              "6524       1   (This January 3 story was corrected to remove...\n",
              "30902      0  So much for healthy debate on college campus I...\n",
              "36459      0  The information is spilling out little by litt...\n",
              "9801       1  WASHINGTON (Reuters) - U.S. Republican preside...\n",
              "25638      0  Attention, conservative men. This one is for y..."
            ],
            "text/html": [
              "\n",
              "  <div id=\"df-c3d75999-d991-4be4-abf3-988a64738be8\" class=\"colab-df-container\">\n",
              "    <div>\n",
              "<style scoped>\n",
              "    .dataframe tbody tr th:only-of-type {\n",
              "        vertical-align: middle;\n",
              "    }\n",
              "\n",
              "    .dataframe tbody tr th {\n",
              "        vertical-align: top;\n",
              "    }\n",
              "\n",
              "    .dataframe thead th {\n",
              "        text-align: right;\n",
              "    }\n",
              "</style>\n",
              "<table border=\"1\" class=\"dataframe\">\n",
              "  <thead>\n",
              "    <tr style=\"text-align: right;\">\n",
              "      <th></th>\n",
              "      <th>label</th>\n",
              "      <th>text</th>\n",
              "    </tr>\n",
              "  </thead>\n",
              "  <tbody>\n",
              "    <tr>\n",
              "      <th>6524</th>\n",
              "      <td>1</td>\n",
              "      <td>(This January 3 story was corrected to remove...</td>\n",
              "    </tr>\n",
              "    <tr>\n",
              "      <th>30902</th>\n",
              "      <td>0</td>\n",
              "      <td>So much for healthy debate on college campus I...</td>\n",
              "    </tr>\n",
              "    <tr>\n",
              "      <th>36459</th>\n",
              "      <td>0</td>\n",
              "      <td>The information is spilling out little by litt...</td>\n",
              "    </tr>\n",
              "    <tr>\n",
              "      <th>9801</th>\n",
              "      <td>1</td>\n",
              "      <td>WASHINGTON (Reuters) - U.S. Republican preside...</td>\n",
              "    </tr>\n",
              "    <tr>\n",
              "      <th>25638</th>\n",
              "      <td>0</td>\n",
              "      <td>Attention, conservative men. This one is for y...</td>\n",
              "    </tr>\n",
              "  </tbody>\n",
              "</table>\n",
              "</div>\n",
              "    <div class=\"colab-df-buttons\">\n",
              "\n",
              "  <div class=\"colab-df-container\">\n",
              "    <button class=\"colab-df-convert\" onclick=\"convertToInteractive('df-c3d75999-d991-4be4-abf3-988a64738be8')\"\n",
              "            title=\"Convert this dataframe to an interactive table.\"\n",
              "            style=\"display:none;\">\n",
              "\n",
              "  <svg xmlns=\"http://www.w3.org/2000/svg\" height=\"24px\" viewBox=\"0 -960 960 960\">\n",
              "    <path d=\"M120-120v-720h720v720H120Zm60-500h600v-160H180v160Zm220 220h160v-160H400v160Zm0 220h160v-160H400v160ZM180-400h160v-160H180v160Zm440 0h160v-160H620v160ZM180-180h160v-160H180v160Zm440 0h160v-160H620v160Z\"/>\n",
              "  </svg>\n",
              "    </button>\n",
              "\n",
              "  <style>\n",
              "    .colab-df-container {\n",
              "      display:flex;\n",
              "      gap: 12px;\n",
              "    }\n",
              "\n",
              "    .colab-df-convert {\n",
              "      background-color: #E8F0FE;\n",
              "      border: none;\n",
              "      border-radius: 50%;\n",
              "      cursor: pointer;\n",
              "      display: none;\n",
              "      fill: #1967D2;\n",
              "      height: 32px;\n",
              "      padding: 0 0 0 0;\n",
              "      width: 32px;\n",
              "    }\n",
              "\n",
              "    .colab-df-convert:hover {\n",
              "      background-color: #E2EBFA;\n",
              "      box-shadow: 0px 1px 2px rgba(60, 64, 67, 0.3), 0px 1px 3px 1px rgba(60, 64, 67, 0.15);\n",
              "      fill: #174EA6;\n",
              "    }\n",
              "\n",
              "    .colab-df-buttons div {\n",
              "      margin-bottom: 4px;\n",
              "    }\n",
              "\n",
              "    [theme=dark] .colab-df-convert {\n",
              "      background-color: #3B4455;\n",
              "      fill: #D2E3FC;\n",
              "    }\n",
              "\n",
              "    [theme=dark] .colab-df-convert:hover {\n",
              "      background-color: #434B5C;\n",
              "      box-shadow: 0px 1px 3px 1px rgba(0, 0, 0, 0.15);\n",
              "      filter: drop-shadow(0px 1px 2px rgba(0, 0, 0, 0.3));\n",
              "      fill: #FFFFFF;\n",
              "    }\n",
              "  </style>\n",
              "\n",
              "    <script>\n",
              "      const buttonEl =\n",
              "        document.querySelector('#df-c3d75999-d991-4be4-abf3-988a64738be8 button.colab-df-convert');\n",
              "      buttonEl.style.display =\n",
              "        google.colab.kernel.accessAllowed ? 'block' : 'none';\n",
              "\n",
              "      async function convertToInteractive(key) {\n",
              "        const element = document.querySelector('#df-c3d75999-d991-4be4-abf3-988a64738be8');\n",
              "        const dataTable =\n",
              "          await google.colab.kernel.invokeFunction('convertToInteractive',\n",
              "                                                    [key], {});\n",
              "        if (!dataTable) return;\n",
              "\n",
              "        const docLinkHtml = 'Like what you see? Visit the ' +\n",
              "          '<a target=\"_blank\" href=https://colab.research.google.com/notebooks/data_table.ipynb>data table notebook</a>'\n",
              "          + ' to learn more about interactive tables.';\n",
              "        element.innerHTML = '';\n",
              "        dataTable['output_type'] = 'display_data';\n",
              "        await google.colab.output.renderOutput(dataTable, element);\n",
              "        const docLink = document.createElement('div');\n",
              "        docLink.innerHTML = docLinkHtml;\n",
              "        element.appendChild(docLink);\n",
              "      }\n",
              "    </script>\n",
              "  </div>\n",
              "\n",
              "\n",
              "<div id=\"df-5230854d-29d8-4884-b4fb-e7ef4bd97ce8\">\n",
              "  <button class=\"colab-df-quickchart\" onclick=\"quickchart('df-5230854d-29d8-4884-b4fb-e7ef4bd97ce8')\"\n",
              "            title=\"Suggest charts\"\n",
              "            style=\"display:none;\">\n",
              "\n",
              "<svg xmlns=\"http://www.w3.org/2000/svg\" height=\"24px\"viewBox=\"0 0 24 24\"\n",
              "     width=\"24px\">\n",
              "    <g>\n",
              "        <path d=\"M19 3H5c-1.1 0-2 .9-2 2v14c0 1.1.9 2 2 2h14c1.1 0 2-.9 2-2V5c0-1.1-.9-2-2-2zM9 17H7v-7h2v7zm4 0h-2V7h2v10zm4 0h-2v-4h2v4z\"/>\n",
              "    </g>\n",
              "</svg>\n",
              "  </button>\n",
              "\n",
              "<style>\n",
              "  .colab-df-quickchart {\n",
              "      --bg-color: #E8F0FE;\n",
              "      --fill-color: #1967D2;\n",
              "      --hover-bg-color: #E2EBFA;\n",
              "      --hover-fill-color: #174EA6;\n",
              "      --disabled-fill-color: #AAA;\n",
              "      --disabled-bg-color: #DDD;\n",
              "  }\n",
              "\n",
              "  [theme=dark] .colab-df-quickchart {\n",
              "      --bg-color: #3B4455;\n",
              "      --fill-color: #D2E3FC;\n",
              "      --hover-bg-color: #434B5C;\n",
              "      --hover-fill-color: #FFFFFF;\n",
              "      --disabled-bg-color: #3B4455;\n",
              "      --disabled-fill-color: #666;\n",
              "  }\n",
              "\n",
              "  .colab-df-quickchart {\n",
              "    background-color: var(--bg-color);\n",
              "    border: none;\n",
              "    border-radius: 50%;\n",
              "    cursor: pointer;\n",
              "    display: none;\n",
              "    fill: var(--fill-color);\n",
              "    height: 32px;\n",
              "    padding: 0;\n",
              "    width: 32px;\n",
              "  }\n",
              "\n",
              "  .colab-df-quickchart:hover {\n",
              "    background-color: var(--hover-bg-color);\n",
              "    box-shadow: 0 1px 2px rgba(60, 64, 67, 0.3), 0 1px 3px 1px rgba(60, 64, 67, 0.15);\n",
              "    fill: var(--button-hover-fill-color);\n",
              "  }\n",
              "\n",
              "  .colab-df-quickchart-complete:disabled,\n",
              "  .colab-df-quickchart-complete:disabled:hover {\n",
              "    background-color: var(--disabled-bg-color);\n",
              "    fill: var(--disabled-fill-color);\n",
              "    box-shadow: none;\n",
              "  }\n",
              "\n",
              "  .colab-df-spinner {\n",
              "    border: 2px solid var(--fill-color);\n",
              "    border-color: transparent;\n",
              "    border-bottom-color: var(--fill-color);\n",
              "    animation:\n",
              "      spin 1s steps(1) infinite;\n",
              "  }\n",
              "\n",
              "  @keyframes spin {\n",
              "    0% {\n",
              "      border-color: transparent;\n",
              "      border-bottom-color: var(--fill-color);\n",
              "      border-left-color: var(--fill-color);\n",
              "    }\n",
              "    20% {\n",
              "      border-color: transparent;\n",
              "      border-left-color: var(--fill-color);\n",
              "      border-top-color: var(--fill-color);\n",
              "    }\n",
              "    30% {\n",
              "      border-color: transparent;\n",
              "      border-left-color: var(--fill-color);\n",
              "      border-top-color: var(--fill-color);\n",
              "      border-right-color: var(--fill-color);\n",
              "    }\n",
              "    40% {\n",
              "      border-color: transparent;\n",
              "      border-right-color: var(--fill-color);\n",
              "      border-top-color: var(--fill-color);\n",
              "    }\n",
              "    60% {\n",
              "      border-color: transparent;\n",
              "      border-right-color: var(--fill-color);\n",
              "    }\n",
              "    80% {\n",
              "      border-color: transparent;\n",
              "      border-right-color: var(--fill-color);\n",
              "      border-bottom-color: var(--fill-color);\n",
              "    }\n",
              "    90% {\n",
              "      border-color: transparent;\n",
              "      border-bottom-color: var(--fill-color);\n",
              "    }\n",
              "  }\n",
              "</style>\n",
              "\n",
              "  <script>\n",
              "    async function quickchart(key) {\n",
              "      const quickchartButtonEl =\n",
              "        document.querySelector('#' + key + ' button');\n",
              "      quickchartButtonEl.disabled = true;  // To prevent multiple clicks.\n",
              "      quickchartButtonEl.classList.add('colab-df-spinner');\n",
              "      try {\n",
              "        const charts = await google.colab.kernel.invokeFunction(\n",
              "            'suggestCharts', [key], {});\n",
              "      } catch (error) {\n",
              "        console.error('Error during call to suggestCharts:', error);\n",
              "      }\n",
              "      quickchartButtonEl.classList.remove('colab-df-spinner');\n",
              "      quickchartButtonEl.classList.add('colab-df-quickchart-complete');\n",
              "    }\n",
              "    (() => {\n",
              "      let quickchartButtonEl =\n",
              "        document.querySelector('#df-5230854d-29d8-4884-b4fb-e7ef4bd97ce8 button');\n",
              "      quickchartButtonEl.style.display =\n",
              "        google.colab.kernel.accessAllowed ? 'block' : 'none';\n",
              "    })();\n",
              "  </script>\n",
              "</div>\n",
              "\n",
              "    </div>\n",
              "  </div>\n"
            ],
            "application/vnd.google.colaboratory.intrinsic+json": {
              "type": "dataframe",
              "variable_name": "sample",
              "summary": "{\n  \"name\": \"sample\",\n  \"rows\": 7988,\n  \"fields\": [\n    {\n      \"column\": \"label\",\n      \"properties\": {\n        \"dtype\": \"number\",\n        \"std\": 0,\n        \"min\": 0,\n        \"max\": 1,\n        \"num_unique_values\": 2,\n        \"samples\": [\n          0,\n          1\n        ],\n        \"semantic_type\": \"\",\n        \"description\": \"\"\n      }\n    },\n    {\n      \"column\": \"text\",\n      \"properties\": {\n        \"dtype\": \"string\",\n        \"num_unique_values\": 7717,\n        \"samples\": [\n          \"Assuming all Republicans support Gorsuch, the nominee would need the votes of five more Democrats to achieve the 60 votes needed to avoid a filibuster. If the number does not hit 60, Senate Majority Leader Mitch McConnell has indicated he will invoke the  nuclear option  to end filibusters of Supreme Court nominees and require only a majority vote for confirmation.Sen. Heidi Heitkamp, D-N.D., and Joe Minchin, D-W.Va., announced Thursday they would vote to confirm Gorsuch to the Supreme Court: Senators have a constitutional obligation to advice and consent on a nominee to fill this Supreme Court vacancy and, simply put, we have a responsibility to do our jobs as elected officials,  Manchin said in a statement Thursday.  I will vote to confirm him to be the ninth justice on the Supreme Court. https://www.youtube.com/watch?v=csE04bREOAEHeitcamp of North Dakota also pledged her vote for Gorsuch and released a statement to confirm:  After doing my due diligence by meeting with Judge Gorsuch and reviewing his record and testimony before the Senate Judiciary Committee, I ve decided to vote in favor of his confirmation. He has a record as a balanced, meticulous, and well-respected jurist who understands the rule of law, . \",\n          \"The Obama administration s well guarded Osama bin Laden documents were released on Wednesday by CIA director Mike Pompeo. The documents were seized in a raid after U.S. SEAL Rob O Neill killed Osama bin Laden. The Obama administration basically politicized the intelligence agencies when they hand-picked just a few of the 470,000 documents to release. They hid damning evidence that could have hurt Obama s chance at reelection in 2012 .OBAMA RAN THE CLOCK OUT AL QAEDA WAS NOT  ON THE RUN :Steve Hayes of the Weekly Standard:  In a manner of speaking, Barack Obama wanted what al Qaeda already had: a mutually beneficial partnership with Tehran. Revealing to the American people the truth about Osama bin Laden s cozy working relationship with the Iranian government might have fatally undermined that diplomatic quest, just as the ongoing vitality of al Qaeda, amply testified to in the bin Laden documents, would have contradicted Obama s proud claims in 2012 that al Qaeda was  on the run.  So Obama, with the eager cooperation of some in the intelligence community, bottled up the bin Laden documents and ran out the clock.IRAN S CLOSE TIES TO AL QAEDA COULD HURT THE IRAN DEAL:Within the documents is an assessment by a senior jihadist with al Qaeda   Tehran ties: how Iran supplied  everything needed,  including  money, arms  and  training in Hezbollah camps in Lebanon,  including safe haven for other jihadis, the New York Post reported.The assessment is raising questions as to how much then-President Obama knew about Iran s ties to al Qaeda before making his controversial deal. And it points to the reason why the former administration might have kept the documents under lock and key.The Obama White House had this information for five years before making the nuclear deal that critics argued would ultimately make it easier for the terror state to build nuclear weapons. Bin Laden had called Iran a  main artery for funds, personnel and communication  for al Qaeda, the Post reported.That wasn t the only suspicious dealing Obama had with Iran. In August 2016, Republicans were furious over a reported deal Obama had made to release American hostages in Iran.The former administration denied paying $400 million in  ransom  for the hostages, arguing that it was part of a legal settlement in a long-standing case. However, it was only the first of three payments to the Iranians totaling $1.3 billion that took place after the hostage release, as the Wall Street Journal disclosed. And strikingly, much of the case came by way of plane-loads of cash in international currencies.But the revelations about bin Laden and the former administration don t end there.MUSLIM BROTHERHOOD CONNECTIONS TO BIN LADEN:In one of the 10,000 videos files contained within the newly released documents, bin Laden is asked to name is his influences. The terrorist leader didn t hesitate, The National reported. From a religious aspect, I was committed within the Muslim Brotherhood. Bin Laden also suggested the Muslim Brotherhood sponsored his first trip as a young jihadi. It was the first time I travelled to a country where I did not know the language,  he writes.  I carried a pistol and went. The Brotherhood, they had poor knowledge about things. If they knew, I would not have had to travel through Syria to Antakya 12 hours by bus to reach Istanbul. It was easier from Jeddah to Istanbul by plane. Three hours by plane. MUSLIM BROTHERHOOD CONNECTIONS TO CLINTONS:Critics of the Muslim Brotherhood have long warned of its terror affiliation and infiltration into the West. One Brotherhood official Gehad el-Haddad was arrested two years ago in Cairo for inciting violence. El-Haddad (pictured below) previously worked as an executive for the Clinton Foundation. Via: BPR\"\n        ],\n        \"semantic_type\": \"\",\n        \"description\": \"\"\n      }\n    }\n  ]\n}"
            }
          },
          "metadata": {},
          "execution_count": 7
        }
      ]
    },
    {
      "cell_type": "code",
      "source": [
        "sample.shape"
      ],
      "metadata": {
        "colab": {
          "base_uri": "https://localhost:8080/"
        },
        "id": "v1v5hV3-b6DM",
        "outputId": "a1695903-b547-4025-8b94-8450570e4db0"
      },
      "execution_count": 8,
      "outputs": [
        {
          "output_type": "execute_result",
          "data": {
            "text/plain": [
              "(7988, 2)"
            ]
          },
          "metadata": {},
          "execution_count": 8
        }
      ]
    },
    {
      "cell_type": "code",
      "source": [],
      "metadata": {
        "id": "1CJMk3q4bv_-"
      },
      "execution_count": 8,
      "outputs": []
    },
    {
      "cell_type": "markdown",
      "source": [
        "## Text pre-processing"
      ],
      "metadata": {
        "id": "CLwYSUL3bivV"
      }
    },
    {
      "cell_type": "code",
      "source": [
        "stop_words = set(stopwords.words('english'))\n",
        "lemmatizer = WordNetLemmatizer()"
      ],
      "metadata": {
        "id": "GFq8ByvkgAg9"
      },
      "execution_count": 9,
      "outputs": []
    },
    {
      "cell_type": "code",
      "source": [
        "def preprocess_text(text):\n",
        "  text = text.lower()  # Convert to lowercase\n",
        "  text = re.sub(r'[^\\w\\s]', '', text) # # remove all the punctuation\n",
        "  tokens = word_tokenize(text)  # Tokenization\n",
        "  tokens = [word for word in tokens if word not in stop_words]  # Remove stopwords\n",
        "  tokens = [lemmatizer.lemmatize(word) for word in tokens]  # Lemmatization\n",
        "  return ' '.join(tokens)\n",
        "\n"
      ],
      "metadata": {
        "id": "8GjV1fd4fc6D"
      },
      "execution_count": 10,
      "outputs": []
    },
    {
      "cell_type": "code",
      "source": [
        "#TF-IDF\n",
        "def Tfid_v(text):\n",
        "    vectorizer_Tfidf = TfidfVectorizer(\n",
        "        preprocessor=preprocess_text,\n",
        "        ngram_range=(1,2),\n",
        "        max_features=2500  # Keep only the 2500 most frequent words\n",
        "    )\n",
        "\n",
        "    tokens = vectorizer_Tfidf.fit_transform(text)\n",
        "    features = vectorizer_Tfidf.get_feature_names_out()\n",
        "    x_df = pd.DataFrame(tokens.toarray(), columns=features)\n",
        "\n",
        "    return x_df, vectorizer_Tfidf  # Return features and trained vectorizer\n",
        "\n",
        "\n",
        " #CountVectorizer\n",
        "def create_features(text):\n",
        "    vectorizer = CountVectorizer(\n",
        "        preprocessor=preprocess_text,\n",
        "        ngram_range=(1,2),\n",
        "        max_features=2500 # Keep only the 2500 most frequent words\n",
        "    )\n",
        "    tokens = vectorizer.fit_transform(text)\n",
        "    features = vectorizer.get_feature_names_out()\n",
        "    x_df = pd.DataFrame(tokens.toarray(), columns=features)\n",
        "    return x_df, vectorizer\n",
        "\n",
        "#apply\n",
        "def apply_features(text, vectorizer):\n",
        "    tokens = vectorizer.transform(text)\n",
        "    features = vectorizer.get_feature_names_out()\n",
        "    x_df = pd.DataFrame(tokens.toarray(), columns=features)\n",
        "    return x_df\n",
        "\n",
        "\n"
      ],
      "metadata": {
        "id": "QQgJ1I997s4-"
      },
      "execution_count": 11,
      "outputs": []
    },
    {
      "cell_type": "markdown",
      "source": [
        "## spilt to train_test_split\n"
      ],
      "metadata": {
        "id": "xo_7h94oAnB0"
      }
    },
    {
      "cell_type": "code",
      "source": [
        "#spilt to train_test_split\n",
        "x_train, x_test, y_train, y_test = train_test_split(sample.text,sample.label, test_size=0.2, random_state=42)"
      ],
      "metadata": {
        "id": "CjRA4P6RbpbP"
      },
      "execution_count": 12,
      "outputs": []
    },
    {
      "cell_type": "code",
      "source": [
        "# Encoding categorical target labels into numerical values\n",
        "label_encoder = LabelEncoder()\n",
        "y_encoded_train = label_encoder.fit_transform(y_train)\n",
        "y_encoded_test = label_encoder.transform(y_test)"
      ],
      "metadata": {
        "id": "-_pwuALhkTil"
      },
      "execution_count": 13,
      "outputs": []
    },
    {
      "cell_type": "code",
      "source": [
        "#CountVectorizer\n",
        "# Extract features from training data and store the vectorizer\n",
        "x_train_feat, vectorizer = create_features(x_train)\n",
        "\n",
        "# Apply the same transformation to test data\n",
        "x_test_feat = apply_features(x_test, vectorizer)"
      ],
      "metadata": {
        "id": "vGDakzXzj6_u"
      },
      "execution_count": 14,
      "outputs": []
    },
    {
      "cell_type": "code",
      "source": [
        "#TF-IDF\n",
        "# Convert training data to TF-IDF features and store the vectorizer\n",
        "x_train_Tfidf,  vectorizer_Tfidf = Tfid_v(x_train)\n",
        "\n",
        "# Apply the same TF-IDF transformation to test data\n",
        "x_test_Tfidf = apply_features(x_test,  vectorizer_Tfidf)"
      ],
      "metadata": {
        "id": "KPmiTfsV7526"
      },
      "execution_count": 15,
      "outputs": []
    },
    {
      "cell_type": "markdown",
      "source": [
        "##  Logistic Regression model"
      ],
      "metadata": {
        "id": "6Cym4RM2D7Nm"
      }
    },
    {
      "cell_type": "code",
      "source": [
        "from sklearn.linear_model import LogisticRegression\n",
        "from sklearn.metrics import accuracy_score\n",
        "\n",
        "## Train a simple Logistic Regression model using CountVectorizer features\n",
        "Lr_c = LogisticRegression(\n",
        "    penalty='l2',\n",
        "    solver='saga',\n",
        ")\n",
        "Lr_c.fit(x_train_feat, y_encoded_train)\n",
        "\n",
        "predictions = Lr_c.predict(x_test_feat)\n",
        "accuracy_s = accuracy_score(y_encoded_test, predictions)\n",
        "print(f\"Model Accuracy: {accuracy_s:.4f}\")\n",
        "print(\"Classification Report:\\n\", classification_report(y_encoded_test, predictions))"
      ],
      "metadata": {
        "colab": {
          "base_uri": "https://localhost:8080/"
        },
        "id": "JJuo4BphlA2o",
        "outputId": "f064e9e1-7b07-4d5a-9e63-8fa2d8e2420c"
      },
      "execution_count": 19,
      "outputs": [
        {
          "output_type": "stream",
          "name": "stdout",
          "text": [
            "Model Accuracy: 0.9831\n",
            "Classification Report:\n",
            "               precision    recall  f1-score   support\n",
            "\n",
            "           0       0.99      0.98      0.98       805\n",
            "           1       0.98      0.99      0.98       793\n",
            "\n",
            "    accuracy                           0.98      1598\n",
            "   macro avg       0.98      0.98      0.98      1598\n",
            "weighted avg       0.98      0.98      0.98      1598\n",
            "\n"
          ]
        },
        {
          "output_type": "stream",
          "name": "stderr",
          "text": [
            "/usr/local/lib/python3.11/dist-packages/sklearn/linear_model/_sag.py:348: ConvergenceWarning: The max_iter was reached which means the coef_ did not converge\n",
            "  warnings.warn(\n"
          ]
        }
      ]
    },
    {
      "cell_type": "code",
      "source": [
        "# Compute Confusion Matrix\n",
        "conf_matrix = confusion_matrix(y_encoded_test, predictions)\n",
        "\n",
        "# Visualize Confusion Matrix\n",
        "plt.figure(figsize=(6, 4))\n",
        "sns.heatmap(conf_matrix, annot=True, fmt='d', cmap='Blues', xticklabels=Lr_c.classes_, yticklabels=Lr_c.classes_)\n",
        "plt.xlabel('Predicted Label')\n",
        "plt.ylabel('True Label')\n",
        "plt.title('Confusion Matrix')\n",
        "plt.show()"
      ],
      "metadata": {
        "colab": {
          "base_uri": "https://localhost:8080/",
          "height": 410
        },
        "id": "kDNpkyuXBqon",
        "outputId": "6e6b454e-a195-44cd-af8c-9f072f79bf4a"
      },
      "execution_count": 20,
      "outputs": [
        {
          "output_type": "display_data",
          "data": {
            "text/plain": [
              "<Figure size 600x400 with 2 Axes>"
            ],
            "image/png": "[encoded data removed]"
          },
          "metadata": {}
        }
      ]
    },
    {
      "cell_type": "code",
      "source": [
        "from sklearn.metrics import accuracy_score, classification_report\n",
        "\n",
        "# Train a simple Logistic Regression model using TF-IDF features\n",
        "Lr_TFIDF = LogisticRegression()\n",
        "Lr_TFIDF.fit(x_train_Tfidf, y_encoded_train)\n",
        "\n",
        "# Make predictions\n",
        "y_pred = Lr_TFIDF.predict(x_test_Tfidf)\n",
        "\n",
        "# Evaluate the model\n",
        "accuracy = accuracy_score(y_encoded_test, y_pred)\n",
        "print(f\"Model Accuracy: {accuracy:.4f}\")\n",
        "print(\"Classification Report:\\n\", classification_report(y_encoded_test, y_pred))"
      ],
      "metadata": {
        "colab": {
          "base_uri": "https://localhost:8080/"
        },
        "id": "C48HkYhA4D3D",
        "outputId": "fbc8a8eb-d124-4d42-8c59-19ab6243a9c5"
      },
      "execution_count": 21,
      "outputs": [
        {
          "output_type": "stream",
          "name": "stdout",
          "text": [
            "Model Accuracy: 0.9731\n",
            "Classification Report:\n",
            "               precision    recall  f1-score   support\n",
            "\n",
            "           0       0.98      0.96      0.97       805\n",
            "           1       0.96      0.98      0.97       793\n",
            "\n",
            "    accuracy                           0.97      1598\n",
            "   macro avg       0.97      0.97      0.97      1598\n",
            "weighted avg       0.97      0.97      0.97      1598\n",
            "\n"
          ]
        }
      ]
    },
    {
      "cell_type": "code",
      "source": [
        "# Compute Confusion Matrix\n",
        "conf_matrix = confusion_matrix(y_encoded_test, y_pred)\n",
        "\n",
        "# Visualize Confusion Matrix\n",
        "plt.figure(figsize=(6, 4))\n",
        "sns.heatmap(conf_matrix, annot=True, fmt='d', cmap='Blues', xticklabels=Lr_TFIDF.classes_, yticklabels=Lr_TFIDF.classes_)\n",
        "plt.xlabel('Predicted Label')\n",
        "plt.ylabel('True Label')\n",
        "plt.title('Confusion Matrix')\n",
        "plt.show()"
      ],
      "metadata": {
        "colab": {
          "base_uri": "https://localhost:8080/",
          "height": 410
        },
        "id": "WeVfrvWD_SPX",
        "outputId": "545d77ca-183f-440b-ab73-3b8519cf5405"
      },
      "execution_count": 22,
      "outputs": [
        {
          "output_type": "display_data",
          "data": {
            "text/plain": [
              "<Figure size 600x400 with 2 Axes>"
            ],
            "image/png": "[encoded data removed]"
          },
          "metadata": {}
        }
      ]
    },
    {
      "cell_type": "markdown",
      "source": [
        "## Multinomial Naïve Bayes Model"
      ],
      "metadata": {
        "id": "28fLK6uJChaJ"
      }
    },
    {
      "cell_type": "code",
      "source": [
        "from sklearn.naive_bayes import MultinomialNB\n",
        "\n",
        "# Initialize and train the model\n",
        "nb_c = MultinomialNB()\n",
        "nb_c.fit(x_train_feat, y_encoded_train)\n",
        "\n",
        "# Predict on the test set\n",
        "nb_predictions = nb_c.predict(x_test_feat)\n",
        "\n",
        "accuracy_nb = accuracy_score(y_encoded_test, predictions)\n",
        "print(f\"Model NB for CountVectorizer Accuracy: {accuracy_nb:.4f}\")\n",
        "print(\"Classification Report:\\n\", classification_report(y_encoded_test, nb_predictions))"
      ],
      "metadata": {
        "colab": {
          "base_uri": "https://localhost:8080/"
        },
        "id": "7C8zUaRzCgBU",
        "outputId": "5cd5b332-54b6-4b0a-d62a-ebfd41e72647"
      },
      "execution_count": 23,
      "outputs": [
        {
          "output_type": "stream",
          "name": "stdout",
          "text": [
            "Model NB for CountVectorizer Accuracy: 0.9831\n",
            "Classification Report:\n",
            "               precision    recall  f1-score   support\n",
            "\n",
            "           0       0.95      0.90      0.93       805\n",
            "           1       0.91      0.95      0.93       793\n",
            "\n",
            "    accuracy                           0.93      1598\n",
            "   macro avg       0.93      0.93      0.93      1598\n",
            "weighted avg       0.93      0.93      0.93      1598\n",
            "\n"
          ]
        }
      ]
    },
    {
      "cell_type": "code",
      "source": [
        "# Compute Confusion Matrix\n",
        "conf_matrix = confusion_matrix(y_encoded_test, nb_predictions)\n",
        "\n",
        "# Visualize Confusion Matrix\n",
        "plt.figure(figsize=(6, 4))\n",
        "sns.heatmap(conf_matrix, annot=True, fmt='d', cmap='Blues', xticklabels=nb_c.classes_, yticklabels=nb_c.classes_)\n",
        "plt.xlabel('Predicted Label')\n",
        "plt.ylabel('True Label')\n",
        "plt.title('Confusion Matrix')\n",
        "plt.show()"
      ],
      "metadata": {
        "colab": {
          "base_uri": "https://localhost:8080/",
          "height": 410
        },
        "id": "QaTQPNDdCHUO",
        "outputId": "43daa338-7860-4f10-f203-50f4a9efc0dc"
      },
      "execution_count": 24,
      "outputs": [
        {
          "output_type": "display_data",
          "data": {
            "text/plain": [
              "<Figure size 600x400 with 2 Axes>"
            ],
            "image/png": "[encoded data removed]"
          },
          "metadata": {}
        }
      ]
    },
    {
      "cell_type": "markdown",
      "source": [
        "**Train a simple NB model using TF-IDF features**"
      ],
      "metadata": {
        "id": "tKELETWeDLfz"
      }
    },
    {
      "cell_type": "code",
      "source": [
        "from sklearn.naive_bayes import MultinomialNB\n",
        "\n",
        "# Initialize and train the model\n",
        "nb_TFIDF = MultinomialNB()\n",
        "nb_TFIDF.fit(x_train_Tfidf, y_encoded_train)\n",
        "\n",
        "# Predict on the test set\n",
        "nb_predictions_TFidf = nb_TFIDF.predict(x_test_Tfidf)\n",
        "\n",
        "accuracy_nb_TFIDF = accuracy_score(y_encoded_test, nb_predictions_TFidf)\n",
        "print(f\"Model NB for TF-IDF Accuracy: {accuracy_nb_TFIDF:.4f}\")\n",
        "print(\"Classification Report:\\n\", classification_report(y_encoded_test, nb_predictions_TFidf))"
      ],
      "metadata": {
        "colab": {
          "base_uri": "https://localhost:8080/"
        },
        "id": "EzWbQpQkDIHv",
        "outputId": "5ce3ee2f-d175-48f0-a912-865875ff8c6a"
      },
      "execution_count": 26,
      "outputs": [
        {
          "output_type": "stream",
          "name": "stdout",
          "text": [
            "Model NB for TF-IDF Accuracy: 0.9180\n",
            "Classification Report:\n",
            "               precision    recall  f1-score   support\n",
            "\n",
            "           0       0.93      0.90      0.92       805\n",
            "           1       0.90      0.94      0.92       793\n",
            "\n",
            "    accuracy                           0.92      1598\n",
            "   macro avg       0.92      0.92      0.92      1598\n",
            "weighted avg       0.92      0.92      0.92      1598\n",
            "\n"
          ]
        }
      ]
    },
    {
      "cell_type": "code",
      "source": [
        "# Compute Confusion Matrix\n",
        "conf_matrix = confusion_matrix(y_encoded_test, nb_predictions_TFidf)\n",
        "\n",
        "# Visualize Confusion Matrix\n",
        "plt.figure(figsize=(6, 4))\n",
        "sns.heatmap(conf_matrix, annot=True, fmt='d', cmap='Blues', xticklabels=nb_TFIDF.classes_, yticklabels=nb_TFIDF.classes_)\n",
        "plt.xlabel('Predicted Label')\n",
        "plt.ylabel('True Label')\n",
        "plt.title('Confusion Matrix')\n",
        "plt.show()"
      ],
      "metadata": {
        "colab": {
          "base_uri": "https://localhost:8080/",
          "height": 410
        },
        "id": "jch7ehqcDo57",
        "outputId": "05fa8e59-f453-42c1-b9df-906414b90f5a"
      },
      "execution_count": 27,
      "outputs": [
        {
          "output_type": "display_data",
          "data": {
            "text/plain": [
              "<Figure size 600x400 with 2 Axes>"
            ],
            "image/png": "[encoded data removed]"
          },
          "metadata": {}
        }
      ]
    },
    {
      "cell_type": "code",
      "source": [
        "#Save the best model :\n",
        "import joblib\n",
        "\n",
        "joblib.dump(Lr_c, 'logistic_regression_model.pkl')\n"
      ],
      "metadata": {
        "id": "-YpF4fB1Dzui",
        "colab": {
          "base_uri": "https://localhost:8080/"
        },
        "outputId": "4f177fc5-213c-44f0-da01-27906afa44e6"
      },
      "execution_count": 29,
      "outputs": [
        {
          "output_type": "execute_result",
          "data": {
            "text/plain": [
              "['logistic_regression_model.pkl']"
            ]
          },
          "metadata": {},
          "execution_count": 29
        }
      ]
    },
    {
      "cell_type": "code",
      "source": [
        "# To load the model later:\n",
        "# loaded_model = joblib.load('logistic_regression_model.pkl')"
      ],
      "metadata": {
        "id": "9w1AAEew9D3j"
      },
      "execution_count": 30,
      "outputs": []
    },
    {
      "cell_type": "code",
      "source": [],
      "metadata": {
        "id": "B216TIpD-nE6"
      },
      "execution_count": null,
      "outputs": []
    }
  ]
}